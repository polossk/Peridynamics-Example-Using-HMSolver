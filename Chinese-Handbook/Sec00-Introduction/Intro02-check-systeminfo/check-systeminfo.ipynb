{
 "cells": [
  {
   "cell_type": "markdown",
   "id": "limited-christianity",
   "metadata": {},
   "source": [
    "# 系统环境检验"
   ]
  },
  {
   "cell_type": "markdown",
   "id": "swedish-narrow",
   "metadata": {},
   "source": [
    "## 获取 CPU 信息"
   ]
  },
  {
   "cell_type": "code",
   "execution_count": 1,
   "id": "twelve-screw",
   "metadata": {},
   "outputs": [],
   "source": [
    "def get_processor_name():\n",
    "    import os, platform, subprocess\n",
    "    \n",
    "    if platform.system() == \"Windows\":\n",
    "        command = \"wmic cpu get Name | more +1\"\n",
    "        return subprocess.check_output(command, shell=True).strip().decode()\n",
    "    elif platform.system() == \"Darwin\":\n",
    "        os.environ['PATH'] = os.environ['PATH'] + os.pathsep + \"/usr/sbin\"\n",
    "        command =\"sysctl -n machdep.cpu.brand_string\"\n",
    "        return subprocess.check_output(command).strip().decode()\n",
    "    elif platform.system() == \"Linux\":\n",
    "        command = \"cat /proc/cpuinfo | grep name | cut -f2 -d: | uniq\"\n",
    "        return subprocess.check_output(command, shell=True).strip().decode()\n",
    "    return \"\""
   ]
  },
  {
   "cell_type": "code",
   "execution_count": 2,
   "id": "elect-treat",
   "metadata": {},
   "outputs": [
    {
     "name": "stdout",
     "output_type": "stream",
     "text": [
      "================================================================\n",
      "CPU info:\n",
      "    Name:       Intel(R) Xeon(R) Gold 5218R CPU @ 2.10GHz\n",
      "    Logical:    40\n",
      "    Physical:   20\n",
      "    Usable:     40\n"
     ]
    }
   ],
   "source": [
    "import psutil\n",
    "\n",
    "n_logical = psutil.cpu_count()\n",
    "n_physical = psutil.cpu_count(logical=False)\n",
    "n_usable = len(psutil.Process().cpu_affinity())\n",
    "\n",
    "print(\"=\" * 64, \"CPU info:\", sep=\"\\n\")\n",
    "print(f\"    Name:       {get_processor_name()}\")\n",
    "print(f\"    Logical:    {n_logical}\")\n",
    "print(f\"    Physical:   {n_physical}\")\n",
    "print(f\"    Usable:     {n_usable}\")"
   ]
  },
  {
   "cell_type": "markdown",
   "id": "skilled-opera",
   "metadata": {},
   "source": [
    "## 获取内存信息"
   ]
  },
  {
   "cell_type": "code",
   "execution_count": 3,
   "id": "modified-andorra",
   "metadata": {},
   "outputs": [
    {
     "name": "stdout",
     "output_type": "stream",
     "text": [
      "================================================================\n",
      "Memory info:\n",
      "    Total:      31.63 GB\n",
      "    Free:       24.16 GB\n",
      "    Available:  24.16 GB\n"
     ]
    }
   ],
   "source": [
    "import psutil\n",
    "\n",
    "mem = psutil.virtual_memory()\n",
    "unit_GB = 1024**3\n",
    "mem_total = mem.total / unit_GB\n",
    "mem_free = mem.free / unit_GB\n",
    "mem_available = mem.available / unit_GB\n",
    "\n",
    "print(\"=\" * 64, \"Memory info:\", sep=\"\\n\")\n",
    "print(f\"    Total:      {mem_total:.2f} GB\")\n",
    "print(f\"    Free:       {mem_free:.2f} GB\")\n",
    "print(f\"    Available:  {mem_available:.2f} GB\")"
   ]
  },
  {
   "cell_type": "markdown",
   "id": "insured-jerusalem",
   "metadata": {},
   "source": [
    "## 获取依赖库信息"
   ]
  },
  {
   "cell_type": "code",
   "execution_count": 4,
   "id": "indoor-amateur",
   "metadata": {},
   "outputs": [
    {
     "name": "stdout",
     "output_type": "stream",
     "text": [
      "================================================================\n",
      "Package requirements info:\n",
      "    numpy:      1.19.2\n",
      "    scipy:      1.5.2\n",
      "    numba:      0.51.2\n",
      "    joblib:     1.0.0\n"
     ]
    }
   ],
   "source": [
    "print(\"=\" * 64, \"Package requirements info:\", sep=\"\\n\")\n",
    "for module_name in [\"numpy\", \"scipy\", \"numba\", \"joblib\"]:\n",
    "    try:\n",
    "        module = __import__(module_name)\n",
    "        version = module.__version__\n",
    "        print(f\"    {module_name + ':':12s}{version}\")\n",
    "    except:\n",
    "        print(f\"    Module {module_name} not found.\")"
   ]
  },
  {
   "cell_type": "markdown",
   "id": "initial-socket",
   "metadata": {},
   "source": [
    "## 获取当前求解器版本信息"
   ]
  },
  {
   "cell_type": "code",
   "execution_count": 5,
   "id": "designing-anniversary",
   "metadata": {},
   "outputs": [
    {
     "name": "stdout",
     "output_type": "stream",
     "text": [
      "================================================================\n",
      "HMSolver info:\n",
      "    Author:     Shangkun Shen(polossk)\n",
      "    Email:      poloshensk@gmail.com\n",
      "    Version:    0.5.0\n",
      "    License:    GNU General Public License v3.0\n",
      "================================================================\n"
     ]
    }
   ],
   "source": [
    "import hmsolver\n",
    "\n",
    "print(\"=\" * 64, \"HMSolver info:\", sep=\"\\n\")\n",
    "print(f\"    Author:     {hmsolver.__author__}\")\n",
    "print(f\"    Email:      {hmsolver.__email__}\")\n",
    "print(f\"    Version:    {hmsolver.__version__}\")\n",
    "print(f\"    License:    {hmsolver.__license__}\")\n",
    "print(\"=\" * 64)"
   ]
  },
  {
   "cell_type": "markdown",
   "id": "taken-cradle",
   "metadata": {},
   "source": [
    "## 附录\n",
    "\n",
    "### A. `check-systeminfo.py` 文件内容\n",
    "\n",
    "```python\n",
    "import psutil\n",
    "\n",
    "def get_processor_name():\n",
    "    import os, platform, subprocess\n",
    "    \n",
    "    if platform.system() == \"Windows\":\n",
    "        command = \"wmic cpu get Name | more +1\"\n",
    "        return subprocess.check_output(command, shell=True).strip().decode()\n",
    "    elif platform.system() == \"Darwin\":\n",
    "        os.environ['PATH'] = os.environ['PATH'] + os.pathsep + \"/usr/sbin\"\n",
    "        command =\"sysctl -n machdep.cpu.brand_string\"\n",
    "        return subprocess.check_output(command).strip().decode()\n",
    "    elif platform.system() == \"Linux\":\n",
    "        command = \"cat /proc/cpuinfo | grep name | cut -f2 -d: | uniq\"\n",
    "        return subprocess.check_output(command, shell=True).strip().decode()\n",
    "    return \"\"\n",
    "\n",
    "if __name__ == \"__main__\":\n",
    "    # cpu info\n",
    "    n_logical = psutil.cpu_count()\n",
    "    n_physical = psutil.cpu_count(logical=False)\n",
    "    n_usable = len(psutil.Process().cpu_affinity())\n",
    "    print(\"=\" * 64, \"CPU info:\", sep=\"\\n\")\n",
    "    print(f\"    Name:       {get_processor_name()}\")\n",
    "    print(f\"    Logical:    {n_logical}\")\n",
    "    print(f\"    Physical:   {n_physical}\")\n",
    "    print(f\"    Usable:     {n_usable}\")\n",
    "    # memory info\n",
    "    mem = psutil.virtual_memory()\n",
    "    unit_GB = 1024**3\n",
    "    mem_total = mem.total / unit_GB\n",
    "    mem_free = mem.free / unit_GB\n",
    "    mem_available = mem.available / unit_GB\n",
    "    print(\"=\" * 64, \"Memory info:\", sep=\"\\n\")\n",
    "    print(f\"    Total:      {mem_total:.2f} GB\")\n",
    "    print(f\"    Free:       {mem_free:.2f} GB\")\n",
    "    print(f\"    Available:  {mem_available:.2f} GB\")\n",
    "    # package requirements info\n",
    "    print(\"=\" * 64, \"Package requirements info:\", sep=\"\\n\")\n",
    "    for module_name in [\"numpy\", \"scipy\", \"numba\", \"joblib\"]:\n",
    "        try:\n",
    "            module = __import__(module_name)\n",
    "            version = module.__version__\n",
    "            print(f\"    {module_name + ':':12s}{version}\")\n",
    "        except:\n",
    "            print(f\"    Module {module_name} not found.\")\n",
    "    print(\"=\" * 64)\n",
    "```\n",
    "\n",
    "### B. `hmsolver-info.py` 文件内容\n",
    "\n",
    "```python\n",
    "import hmsolver\n",
    "\n",
    "if __name__ == '__main__':\n",
    "    print(\"=\" * 64, \"HMSolver info:\", sep=\"\\n\")\n",
    "    print(f\"    Author:     {hmsolver.__author__}\")\n",
    "    print(f\"    Email:      {hmsolver.__email__}\")\n",
    "    print(f\"    Version:    {hmsolver.__version__}\")\n",
    "    print(f\"    License:    {hmsolver.__license__}\")\n",
    "    print(\"=\" * 64)\n",
    "```"
   ]
  }
 ],
 "metadata": {
  "kernelspec": {
   "display_name": "Python 3",
   "language": "python",
   "name": "python3"
  },
  "language_info": {
   "codemirror_mode": {
    "name": "ipython",
    "version": 3
   },
   "file_extension": ".py",
   "mimetype": "text/x-python",
   "name": "python",
   "nbconvert_exporter": "python",
   "pygments_lexer": "ipython3",
   "version": "3.7.4"
  }
 },
 "nbformat": 4,
 "nbformat_minor": 5
}
